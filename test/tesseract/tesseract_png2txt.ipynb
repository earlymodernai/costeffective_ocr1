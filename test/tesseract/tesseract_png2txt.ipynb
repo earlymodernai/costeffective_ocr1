{
 "cells": [
  {
   "cell_type": "code",
   "execution_count": null,
   "metadata": {},
   "outputs": [],
   "source": [
    "import os\n",
    "''' convert png to text with tessearct\n",
    "!tesseract -l {model_name} {file_path} - > {output_path}\n",
    "src_path: path to the png files\n",
    "dest_path: path to the output files, combine the last folder name and file name for output text file\n",
    "model_name: model name to be used with tessearct\n",
    "'''\n",
    "def ConvertPng(src_path, dest_path, model_name):\n",
    "    for root, dirs, files in os.walk(src_path):\n",
    "        for file in files:\n",
    "            doc_id = os.path.basename(root)\n",
    "            print(doc_id)\n",
    "            page_id = os.path.splitext(file)[0]\n",
    "            print(page_id)\n",
    "            file_path = os.path.join(root, file)\n",
    "            print(file_path)\n",
    "            \n",
    "            model_folder = dest_path+'/'+model_name\n",
    "            if not os.path.exists(model_folder):\n",
    "                os.makedirs(model_folder)\n",
    "            output_path = dest_path+'/'+model_name+'/'+doc_id+'-'+page_id+'.txt'\n",
    "            print(output_path)\n",
    "            !tesseract -l {model_name} {file_path} - > {output_path}\n",
    "\n",
    "# Specify the directory path you want to start from\n",
    "src_path = 'png'\n",
    "dest_path = 'txt'\n",
    "model_name = 'gtd'\n",
    "\n",
    "\n",
    "model_list=['eng','enm','enmgtd','gtd']\n",
    "\n",
    "for model_name in model_list:\n",
    "    ConvertPng(src_path, dest_path, model_name)\n"
   ]
  },
  {
   "cell_type": "code",
   "execution_count": null,
   "metadata": {},
   "outputs": [],
   "source": [
    "import glob\n",
    "\n",
    "folder = \"gtd/\"\n",
    "read_files = sorted(glob.glob(folder+\"*.txt\"))\n",
    "print(read_files)\n",
    "\n",
    "with open(folder+\"ocr_text.txt\", \"wb\") as outfile:\n",
    "    for f in read_files:\n",
    "        with open(f, \"rb\") as infile:\n",
    "            outfile.write(infile.read())"
   ]
  }
 ],
 "metadata": {
  "kernelspec": {
   "display_name": "Python 3 (ipykernel)",
   "language": "python",
   "name": "python3"
  },
  "language_info": {
   "codemirror_mode": {
    "name": "ipython",
    "version": 3
   },
   "file_extension": ".py",
   "mimetype": "text/x-python",
   "name": "python",
   "nbconvert_exporter": "python",
   "pygments_lexer": "ipython3",
   "version": "3.6.9"
  }
 },
 "nbformat": 4,
 "nbformat_minor": 4
}
