{
 "cells": [
  {
   "cell_type": "code",
   "execution_count": null,
   "metadata": {},
   "outputs": [],
   "source": [
    "import pandas as pd\n",
    "\n",
    "# read text file into pandas DataFrame\n",
    "df_eng = pd.read_table(\"eng/ocr_text.txt\", header=None, names=[\"eng\"])\n",
    "df_gt = pd.read_table(\"gtd/gt_text.txt\", header=None, names=[\"gt\"])\n",
    "df_gtd = pd.read_table(\"gtd/ocr_text.txt\", header=None, names=[\"gtd\"])\n",
    " \n",
    " \n",
    "df = pd.concat([df_eng,df_gt, df_gtd], axis=1, join='inner')\n",
    "\n",
    "display(df)\n",
    "\n",
    "df.to_csv('gdt-eng-gt.csv', encoding='utf-8')"
   ]
  }
 ],
 "metadata": {
  "kernelspec": {
   "display_name": "Python 3",
   "language": "python",
   "name": "python3"
  },
  "language_info": {
   "codemirror_mode": {
    "name": "ipython",
    "version": 3
   },
   "file_extension": ".py",
   "mimetype": "text/x-python",
   "name": "python",
   "nbconvert_exporter": "python",
   "pygments_lexer": "ipython3",
   "version": "3.10.0"
  }
 },
 "nbformat": 4,
 "nbformat_minor": 2
}
