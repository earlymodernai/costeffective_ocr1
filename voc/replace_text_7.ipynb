{
 "cells": [
  {
   "cell_type": "code",
   "execution_count": 17,
   "metadata": {},
   "outputs": [],
   "source": [
    "import csv\n",
    "from pathlib import Path\n",
    "\n",
    "# replace words in text files\n",
    "with open('suggest_replace_final.csv', newline='') as c:\n",
    "    reader = csv.DictReader(c, delimiter=',')\n",
    "    D = {}\n",
    "    for row in reader:\n",
    "        if(row['Replace'] is not None and row['Replace'].strip()!=''):\n",
    "            D[row['Word']] = row['Replace']\n",
    "            D[row['Word']+','] = row['Replace']+','\n",
    "            D[row['Word']+'.'] = row['Replace']+'.'\n",
    "            D[row['Word']+'!'] = row['Replace']+'!'\n",
    "            D[row['Word']+';'] = row['Replace']+';'\n",
    "            D[row['Word']+':'] = row['Replace']+':'\n",
    "    #print(D)\n",
    "    for txt_path in Path(\"replace_txt\").glob(\"*.txt\"):\n",
    "        doc_id= txt_path.stem\n",
    "        with open(txt_path, newline='') as infile:\n",
    "            with open('replace_out/'+doc_id+'.txt', 'w') as outfile:\n",
    "                for line in infile:\n",
    "                    line = line.replace(\"*\", \"\")\n",
    "                    tokens = line.split()\n",
    "                    for i, t in enumerate(tokens):\n",
    "                        if t.lower() in D:\n",
    "                            if(t[0].isupper()):\n",
    "                                tokens[i] = (D[t.lower()]).capitalize()\n",
    "                            else:\n",
    "                                tokens[i] = D[t.lower()]\n",
    "                    newline=' '.join(tokens)+'\\n'\n",
    "                    #line = line.replace(\"^\", \"\") ?\n",
    "                    outfile.write(newline)"
   ]
  }
 ],
 "metadata": {
  "kernelspec": {
   "display_name": "Python 3",
   "language": "python",
   "name": "python3"
  },
  "language_info": {
   "codemirror_mode": {
    "name": "ipython",
    "version": 3
   },
   "file_extension": ".py",
   "mimetype": "text/x-python",
   "name": "python",
   "nbconvert_exporter": "python",
   "pygments_lexer": "ipython3",
   "version": "3.6.9"
  }
 },
 "nbformat": 4,
 "nbformat_minor": 4
}
