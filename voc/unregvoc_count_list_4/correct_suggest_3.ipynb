{
 "cells": [
  {
   "cell_type": "code",
   "execution_count": 15,
   "metadata": {},
   "outputs": [],
   "source": [
    "import numpy as np\n",
    "import pandas as pd\n",
    "import difflib\n",
    "from enchant.checker import SpellChecker\n",
    "import string\n",
    "import nltk\n",
    "#nltk.download('words')\n",
    "#nltk.download('punkt')\n",
    "from nltk.corpus import words\n",
    "choices = words.words()"
   ]
  },
  {
   "cell_type": "code",
   "execution_count": 16,
   "metadata": {},
   "outputs": [],
   "source": [
    "all_voc_df = pd.read_csv(\"all_voc_count.csv\") "
   ]
  },
  {
   "cell_type": "code",
   "execution_count": 17,
   "metadata": {},
   "outputs": [
    {
     "name": "stdout",
     "output_type": "stream",
     "text": [
      "        Unnamed: 0        Word  Count\n",
      "0               15          &c   3615\n",
      "1             1019       thofe   2462\n",
      "2              156        fuch   2247\n",
      "3              645        moft   1984\n",
      "4             3592       firft   1979\n",
      "...            ...         ...    ...\n",
      "155982       71466     fhyjius      1\n",
      "155983       71465        ifti      1\n",
      "155984       71464  mceftiffmi      1\n",
      "155985       71463  dulciffuno      1\n",
      "155986      155986   solvatory      1\n",
      "\n",
      "[155987 rows x 3 columns]\n"
     ]
    }
   ],
   "source": [
    "print(all_voc_df)"
   ]
  },
  {
   "cell_type": "code",
   "execution_count": 18,
   "metadata": {},
   "outputs": [],
   "source": [
    "d = SpellChecker(\"en\")"
   ]
  },
  {
   "cell_type": "code",
   "execution_count": 19,
   "metadata": {},
   "outputs": [],
   "source": [
    "##Get vocabulary\n",
    "with open(\"vocabulary.txt\", 'r+', encoding='utf-8') as f:\n",
    "    wordlist_tr_pre = f.readlines()\n",
    "\n",
    "wordlist_tr = [x.strip().lower() for x in wordlist_tr_pre]\n",
    "choices= set(wordlist_tr + words.words() + list(string.punctuation))\n",
    "\n",
    "#get similar existing words\n",
    "def get_close_matches(w,n):\n",
    "    return set(difflib.get_close_matches(w, choices,n))\n"
   ]
  },
  {
   "cell_type": "code",
   "execution_count": null,
   "metadata": {},
   "outputs": [],
   "source": [
    "suggest1 = []\n",
    "suggest_list = []\n",
    "i=0\n",
    "for word in all_voc_df[\"Word\"]:\n",
    "    \n",
    "    suggest_list_item = d.suggest(word)\n",
    "    suggest_list_item_ws = []\n",
    "    if(\"f\" in word):\n",
    "        # replace f with s\n",
    "        word_ws = word.replace(\"f\", \"s\")\n",
    "        suggest_list_item_ws = d.suggest(word_ws)\n",
    "        word=word_ws\n",
    "        suggest_list_item_ws.insert(0,word_ws)\n",
    "\n",
    "    suggest_list_item = suggest_list_item + suggest_list_item_ws \n",
    "    # get both top 1 suggestion and the top 5 suggestions \n",
    "    suggest1_item = difflib.get_close_matches(word, suggest_list_item,1)\n",
    "    suggest_list_item = difflib.get_close_matches(word, suggest_list_item,5)\n",
    "\n",
    "    if(len(suggest1_item)>0 and suggest1_item[0] is not None):\n",
    "        suggest1.append(suggest1_item[0])\n",
    "    else:\n",
    "        suggest1.append(\"\")\n",
    "    if(suggest_list_item is not None):\n",
    "        suggest_list.append(suggest_list_item)\n",
    "    else:\n",
    "        suggest_list.append(\"\")\n",
    "\n",
    "\n",
    "all_voc_df[\"suggest1\"] = suggest1     \n",
    "all_voc_df[\"suggest_list\"] = suggest_list   \n",
    "\n",
    "#output replace suggest list for correction\n",
    "all_voc_df.to_csv('suggest_replace.csv')"
   ]
  }
 ],
 "metadata": {
  "kernelspec": {
   "display_name": "Python 3",
   "language": "python",
   "name": "python3"
  },
  "language_info": {
   "codemirror_mode": {
    "name": "ipython",
    "version": 3
   },
   "file_extension": ".py",
   "mimetype": "text/x-python",
   "name": "python",
   "nbconvert_exporter": "python",
   "pygments_lexer": "ipython3",
   "version": "3.6.9"
  }
 },
 "nbformat": 4,
 "nbformat_minor": 4
}
