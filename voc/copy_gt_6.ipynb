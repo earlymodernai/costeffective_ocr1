{
 "cells": [
  {
   "cell_type": "code",
   "execution_count": 1,
   "metadata": {},
   "outputs": [],
   "source": [
    "#copy all gt to a folder\n",
    "import os\n",
    "import shutil"
   ]
  },
  {
   "cell_type": "code",
   "execution_count": 6,
   "metadata": {},
   "outputs": [],
   "source": [
    "#copy corrected ground truth pairs\n",
    "finddir = 'tesseracttrain/makedata/makedata_pairs/'\n",
    "destdir='tesseracttrain/makedata/training_gt/'\n",
    "for subdir, dirs, files in os.walk(finddir):\n",
    "    for file in files:\n",
    "        filepath = subdir + os.sep + file\n",
    "        seclastdir = os.path.basename(os.path.dirname(subdir))\n",
    "\n",
    "        if file.endswith(\".tif\"):\n",
    "            #filepath without extension\n",
    "            filenext_path = os.path.splitext(filepath)[0]\n",
    "            #filename without extension\n",
    "            filenext=os.path.splitext(file)[0]\n",
    "            if(os.path.exists(filenext_path+'.gt.txt')):\n",
    "                #copy txt file along with tif \n",
    "                shutil.copy2(filepath, destdir+seclastdir+\"_\"+file)\n",
    "                shutil.copy2(filenext_path+'.gt.txt', destdir+seclastdir+\"_\"+filenext+'.gt.txt')\n"
   ]
  },
  {
   "cell_type": "code",
   "execution_count": null,
   "metadata": {},
   "outputs": [],
   "source": []
  }
 ],
 "metadata": {
  "kernelspec": {
   "display_name": "Python 3",
   "language": "python",
   "name": "python3"
  },
  "language_info": {
   "codemirror_mode": {
    "name": "ipython",
    "version": 3
   },
   "file_extension": ".py",
   "mimetype": "text/x-python",
   "name": "python",
   "nbconvert_exporter": "python",
   "pygments_lexer": "ipython3",
   "version": "3.6.9"
  }
 },
 "nbformat": 4,
 "nbformat_minor": 4
}
